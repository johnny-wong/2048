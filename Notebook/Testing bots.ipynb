{
 "cells": [
  {
   "cell_type": "code",
   "execution_count": 1,
   "metadata": {
    "collapsed": true
   },
   "outputs": [],
   "source": [
    "# Import class\n",
    "import os\n",
    "import sys\n",
    "parent_dir = os.path.dirname(os.getcwd())\n",
    "class_dir = os.path.join(parent_dir, 'scripts')\n",
    "sys.path.insert(0, class_dir)"
   ]
  },
  {
   "cell_type": "code",
   "execution_count": 2,
   "metadata": {},
   "outputs": [],
   "source": [
    "import bot\n",
    "import game2048\n",
    "import time\n",
    "import matplotlib.pyplot as plt\n",
    "import statistics\n",
    "\n",
    "%matplotlib inline"
   ]
  },
  {
   "cell_type": "markdown",
   "metadata": {},
   "source": [
    "# Random\n",
    "From all valid moves, randomly pick one."
   ]
  },
  {
   "cell_type": "code",
   "execution_count": 3,
   "metadata": {},
   "outputs": [
    {
     "name": "stdout",
     "output_type": "stream",
     "text": [
      "Took 27s to run 1000 times\n"
     ]
    },
    {
     "data": {
      "text/plain": [
       "Text(0.5,1,'Random bot')"
      ]
     },
     "execution_count": 3,
     "metadata": {},
     "output_type": "execute_result"
    },
    {
     "data": {
      "image/png": "[encoded data removed]",
      "text/plain": [
       "<matplotlib.figure.Figure at 0x1d332f47860>"
      ]
     },
     "metadata": {},
     "output_type": "display_data"
    }
   ],
   "source": [
    "n=1000\n",
    "scores = []\n",
    "start_time = time.time()\n",
    "for i in range(n):\n",
    "    game = game2048.Game(print_end_msg=False)\n",
    "    random_bot = bot.RandomBot(game)\n",
    "    bot_player = bot.BotPlayer(random_bot)\n",
    "    bot_player.play()\n",
    "    scores.append(game.get_score())\n",
    "\n",
    "print('Took {:.0f}s to run {} times'.format(time.time()-start_time, n))\n",
    "\n",
    "mean = statistics.mean(scores)\n",
    "median = statistics.median(scores)\n",
    "\n",
    "plt.figure(figsize=(10, 5))\n",
    "plt.hist(scores, alpha=0.6)\n",
    "plt.axvline(mean, color='black')\n",
    "plt.axvline(median, color='red')\n",
    "plt.text(mean+50, 50, 'mean:\\n{:.1f}'.format(mean))\n",
    "plt.text(median-500, 200, 'median:\\n{:.1f}'.format(median), color='red')\n",
    "plt.title('Random bot')"
   ]
  },
  {
   "cell_type": "markdown",
   "metadata": {},
   "source": [
    "# Order bot\n",
    "Has a preferred direction, picks valid move with highest preference, starting right, down, left, up"
   ]
  },
  {
   "cell_type": "code",
   "execution_count": 4,
   "metadata": {},
   "outputs": [
    {
     "name": "stdout",
     "output_type": "stream",
     "text": [
      "Took 36s to run 1000 times\n"
     ]
    },
    {
     "data": {
      "text/plain": [
       "Text(0.5,1,'Random bot')"
      ]
     },
     "execution_count": 4,
     "metadata": {},
     "output_type": "execute_result"
    },
    {
     "data": {
      "image/png": "[encoded data removed]",
      "text/plain": [
       "<matplotlib.figure.Figure at 0x1d334094518>"
      ]
     },
     "metadata": {},
     "output_type": "display_data"
    }
   ],
   "source": [
    "n=1000\n",
    "scores = []\n",
    "start_time = time.time()\n",
    "for i in range(n):\n",
    "    game = game2048.Game(print_end_msg=False)\n",
    "    order_bot = bot.OrderBot(game)\n",
    "    bot_player = bot.BotPlayer(order_bot)\n",
    "    bot_player.play()\n",
    "    scores.append(game.get_score())\n",
    "\n",
    "print('Took {:.0f}s to run {} times'.format(time.time()-start_time, n))\n",
    "\n",
    "mean = statistics.mean(scores)\n",
    "median = statistics.median(scores)\n",
    "\n",
    "plt.figure(figsize=(10, 5))\n",
    "plt.hist(scores, alpha=0.6)\n",
    "plt.axvline(mean, color='black')\n",
    "plt.axvline(median, color='red')\n",
    "plt.text(mean+50, 50, 'mean:\\n{:.1f}'.format(mean))\n",
    "plt.text(median-500, 200, 'median:\\n{:.1f}'.format(median), color='red')\n",
    "plt.title('Random bot')"
   ]
  },
  {
   "cell_type": "markdown",
   "metadata": {},
   "source": [
    "# Lower right bot\n",
    "Similar to OrderBot, but tries to swipe down after swiping right"
   ]
  },
  {
   "cell_type": "code",
   "execution_count": 5,
   "metadata": {},
   "outputs": [
    {
     "name": "stdout",
     "output_type": "stream",
     "text": [
      "Took 38s to run 1000 times\n"
     ]
    },
    {
     "data": {
      "text/plain": [
       "Text(0.5,1,'Random bot')"
      ]
     },
     "execution_count": 5,
     "metadata": {},
     "output_type": "execute_result"
    },
    {
     "data": {
      "image/png": "[encoded data removed]",
      "text/plain": [
       "<matplotlib.figure.Figure at 0x1d332fdca20>"
      ]
     },
     "metadata": {},
     "output_type": "display_data"
    }
   ],
   "source": [
    "n=1000\n",
    "scores = []\n",
    "start_time = time.time()\n",
    "for i in range(n):\n",
    "    game = game2048.Game(print_end_msg=False)\n",
    "    lower_right_bot = bot.LowerRightBot(game)\n",
    "    bot_player = bot.BotPlayer(lower_right_bot)\n",
    "    bot_player.play()\n",
    "    scores.append(game.get_score())\n",
    "\n",
    "print('Took {:.0f}s to run {} times'.format(time.time()-start_time, n))\n",
    "\n",
    "mean = statistics.mean(scores)\n",
    "median = statistics.median(scores)\n",
    "\n",
    "plt.figure(figsize=(10, 5))\n",
    "plt.hist(scores, alpha=0.6)\n",
    "plt.axvline(mean, color='black')\n",
    "plt.axvline(median, color='red')\n",
    "plt.text(mean+50, 50, 'mean:\\n{:.1f}'.format(mean))\n",
    "plt.text(median-500, 200, 'median:\\n{:.1f}'.format(median), color='red')\n",
    "plt.title('Random bot')"
   ]
  }
 ],
 "metadata": {
  "kernelspec": {
   "display_name": "Python 3",
   "language": "python",
   "name": "python3"
  },
  "language_info": {
   "codemirror_mode": {
    "name": "ipython",
    "version": 3
   },
   "file_extension": ".py",
   "mimetype": "text/x-python",
   "name": "python",
   "nbconvert_exporter": "python",
   "pygments_lexer": "ipython3",
   "version": "3.6.3"
  }
 },
 "nbformat": 4,
 "nbformat_minor": 2
}
